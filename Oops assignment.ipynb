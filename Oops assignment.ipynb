{
 "cells": [
  {
   "cell_type": "markdown",
   "id": "872b2b8e-df11-4ab4-93c0-09e78f106358",
   "metadata": {},
   "source": [
    "**Q.1. What are the five key concepts of Object-Oriented Programming (OOP)?**\n",
    "\n",
    "**Answer:**\n",
    "\n",
    "The five key concepts of Object-Oriented Programming (OOP) are:\n",
    "\n",
    "1. Class: A blueprint or template for creating objects. It defines the properties (attributes) and behaviors (methods) that the objects created from the class will have.\n",
    "\n",
    "2. Object: An instance of a class. It is created from a class and can access the class's attributes and methods.\n",
    "\n",
    "3. Encapsulation: The concept of bundling data (attributes) and methods (functions) that operate on the data into a single unit (class). It also involves restricting access to certain components using access modifiers like private, protected, or public.\n",
    "\n",
    "4. Inheritance: The ability to create a new class (subclass) that inherits the properties and behaviors of an existing class (superclass). This promotes code reuse and establishes a relationship between classes.\n",
    "\n",
    "5. Polymorphism: The ability of different objects to respond to the same function or method call in different ways. It allows methods to be used interchangeably on objects of different classes, typically through method overriding or overloading.\n",
    "\n",
    "These concepts work together to make OOP a powerful programming paradigm for organizing and structuring code."
   ]
  },
  {
   "cell_type": "markdown",
   "id": "5f217d85-649e-4ea0-b057-1e64ddcb80d9",
   "metadata": {},
   "source": [
    "**Q.2. Write a Python class for a \"Car with attributes for 'make', 'model', and 'year'. Include a method to display the car's information.**\n",
    "\n",
    "**Answer:**"
   ]
  },
  {
   "cell_type": "code",
   "execution_count": 1,
   "id": "9f757210-91a4-4d38-b01a-fbba8c8966fd",
   "metadata": {},
   "outputs": [
    {
     "name": "stdout",
     "output_type": "stream",
     "text": [
      "Car Information: 2020 Toyota Corolla\n"
     ]
    }
   ],
   "source": [
    "class Car:\n",
    "    def __init__(self, make, model, year):\n",
    "        self.make = make\n",
    "        self.model = model\n",
    "        self.year = year\n",
    "\n",
    "    def display_info(self):\n",
    "        print(f\"Car Information: {self.year} {self.make} {self.model}\")\n",
    "\n",
    "# Example usage:\n",
    "my_car = Car(\"Toyota\", \"Corolla\", 2020)\n",
    "my_car.display_info()"
   ]
  },
  {
   "cell_type": "markdown",
   "id": "a49d2244-da05-4878-a283-4e0841ff918b",
   "metadata": {},
   "source": [
    "**Q.3. Explain the difference between instance methods and class methods. Provide an example of each.**\n",
    "\n",
    "**Answer:**\n",
    "\n",
    "In Python, the difference between instance methods and class methods lies in how they are called and what they operate on.\n",
    "\n",
    "1. Instance Methods\n",
    "* Definition: Instance methods operate on instance objects (the object created from a class). They have access to instance-specific data (attributes) and can modify it.\n",
    "* How they are called: They are called on an instance of the class.\n",
    "* Self: The first parameter is always self, which refers to the specific instance of the class.\n",
    "\n",
    "Example of an Instance Method:"
   ]
  },
  {
   "cell_type": "code",
   "execution_count": 2,
   "id": "a846d612-b02f-4d93-bf15-58a4acfad08e",
   "metadata": {},
   "outputs": [
    {
     "name": "stdout",
     "output_type": "stream",
     "text": [
      "Car: 2020 Toyota Corolla\n"
     ]
    }
   ],
   "source": [
    "class Car:\n",
    "    def __init__(self, make, model, year):\n",
    "        self.make = make\n",
    "        self.model = model\n",
    "        self.year = year\n",
    "\n",
    "    # Instance method\n",
    "    def display_info(self):\n",
    "        print(f\"Car: {self.year} {self.make} {self.model}\")\n",
    "\n",
    "# Creating an instance of Car\n",
    "my_car = Car(\"Toyota\", \"Corolla\", 2020)\n",
    "my_car.display_info()  # Calls the instance method"
   ]
  },
  {
   "cell_type": "markdown",
   "id": "43785c80-203e-4066-9a80-29e727a6434c",
   "metadata": {},
   "source": [
    "2. Class Methods\n",
    "* Definition: Class methods operate on the class itself rather than on instances. They don't modify instance-specific data but can modify class-level attributes (data shared across all instances).\n",
    "* How they are called: They can be called on the class itself or an instance of the class.\n",
    "* Cls: The first parameter is cls, which refers to the class (not a specific instance).\n",
    "* Decorator: Class methods are marked with the @classmethod decorator.\n",
    "\n",
    "Example of a Class Method:"
   ]
  },
  {
   "cell_type": "code",
   "execution_count": 3,
   "id": "b8ccc264-00e4-49be-a4c4-f96435be4727",
   "metadata": {},
   "outputs": [
    {
     "name": "stdout",
     "output_type": "stream",
     "text": [
      "Total cars created: 2\n"
     ]
    }
   ],
   "source": [
    "class Car:\n",
    "    car_count = 0  # Class attribute\n",
    "\n",
    "    def __init__(self, make, model, year):\n",
    "        self.make = make\n",
    "        self.model = model\n",
    "        self.year = year\n",
    "        Car.car_count += 1\n",
    "\n",
    "    # Instance method\n",
    "    def display_info(self):\n",
    "        print(f\"Car: {self.year} {self.make} {self.model}\")\n",
    "\n",
    "    # Class method\n",
    "    @classmethod\n",
    "    def total_cars(cls):\n",
    "        print(f\"Total cars created: {cls.car_count}\")\n",
    "\n",
    "# Creating instances of Car\n",
    "car1 = Car(\"Toyota\", \"Corolla\", 2020)\n",
    "car2 = Car(\"Honda\", \"Civic\", 2022)\n",
    "\n",
    "# Calling the class method\n",
    "Car.total_cars()  # Output: Total cars created: 2"
   ]
  },
  {
   "cell_type": "markdown",
   "id": "7ad278a9-044c-4bb9-8711-54a4c10415b1",
   "metadata": {},
   "source": [
    "**Key Differences:**\n",
    "* Instance methods operate on specific instances and can access/modify instance-specific attributes.\n",
    "* Class methods operate on the class itself and are typically used when you want to affect class-level data or logic that isn't tied to an individual instance."
   ]
  },
  {
   "cell_type": "markdown",
   "id": "909d46e6-4b77-4628-94c6-c7d1dbb7e1e3",
   "metadata": {},
   "source": [
    "**Q. 4. How does Python implement method overloading? Give an example.**\n",
    "\n",
    "**Answer:**\n",
    "\n",
    "Python does not support method overloading in the traditional sense (as seen in languages like Java or C++). Instead, Python handles method overloading by allowing a method to accept a variable number of arguments using techniques like:\n",
    "\n",
    "1. Default parameters: Providing default values for arguments.\n",
    "2. Variable-length arguments: Using *args for non-keyword arguments and **kwargs for keyword arguments.\n",
    "Python methods can be defined to handle different numbers and types of arguments based on this flexibility.\n",
    "\n",
    "Example using Default Parameters:"
   ]
  },
  {
   "cell_type": "code",
   "execution_count": 4,
   "id": "1fb55948-dba3-4ac1-b49d-a23431e24ddd",
   "metadata": {},
   "outputs": [
    {
     "name": "stdout",
     "output_type": "stream",
     "text": [
      "5\n",
      "8\n",
      "10\n"
     ]
    }
   ],
   "source": [
    "class MathOperations:\n",
    "    # A method with default parameters to simulate overloading\n",
    "    def add(self, a, b=0, c=0):\n",
    "        return a + b + c\n",
    "\n",
    "# Example usage\n",
    "math_op = MathOperations()\n",
    "print(math_op.add(5))         # Output: 5 (only one argument, default for b and c)\n",
    "print(math_op.add(5, 3))      # Output: 8 (two arguments, default for c)\n",
    "print(math_op.add(5, 3, 2))   # Output: 10 (all arguments provided)"
   ]
  },
  {
   "cell_type": "markdown",
   "id": "211229d8-5234-4cf6-87b4-b3944ead51e9",
   "metadata": {},
   "source": [
    "In this example, the add method can be called with one, two, or three arguments, simulating method overloading.\n",
    "\n",
    "Example using *args for Variable-Length Arguments:"
   ]
  },
  {
   "cell_type": "code",
   "execution_count": 5,
   "id": "0c3750d6-6b77-42cd-8871-c77bce73887c",
   "metadata": {},
   "outputs": [
    {
     "name": "stdout",
     "output_type": "stream",
     "text": [
      "5\n",
      "8\n",
      "10\n"
     ]
    }
   ],
   "source": [
    "class MathOperations:\n",
    "    # A method that accepts variable number of arguments using *args\n",
    "    def add(self, *args):\n",
    "        return sum(args)\n",
    "\n",
    "# Example usage\n",
    "math_op = MathOperations()\n",
    "print(math_op.add(5))             # Output: 5\n",
    "print(math_op.add(5, 3))          # Output: 8\n",
    "print(math_op.add(5, 3, 2))       # Output: 10"
   ]
  },
  {
   "cell_type": "markdown",
   "id": "af4fc46c-e6fb-46a4-8c8f-f34fb561a3d0",
   "metadata": {},
   "source": [
    "In this case, the add method can handle any number of arguments by using *args.\n",
    "\n",
    "**Key Points:**\n",
    "* Python doesn't support traditional method overloading by having multiple methods with the same name but different parameter types or numbers.\n",
    "* Instead, Python provides flexibility through default arguments, *args, and **kwargs to achieve similar behavior."
   ]
  },
  {
   "cell_type": "markdown",
   "id": "d034e2a7-98cd-44fb-9635-58756226a95d",
   "metadata": {},
   "source": [
    "**Q. 5. What are the three types of access modifiers in Python? How are they denoted?**\n",
    "\n",
    "**Answer:**\n",
    "\n",
    "In Python, access modifiers control the accessibility of class attributes and methods. Unlike languages like Java or C++, Python doesn't have explicit keywords like private, protected, or public. Instead, Python uses naming conventions to denote access levels.\n",
    "\n",
    "Here are the three types of access modifiers in Python:\n",
    "\n",
    "**1. Public**\n",
    "\n",
    "* Description: Public members are accessible from anywhere in the code, both inside and outside the class.\n",
    "* Denoted by: No leading underscores.\n",
    "\n",
    "Example:"
   ]
  },
  {
   "cell_type": "code",
   "execution_count": 6,
   "id": "c0236c11-d92c-41cc-b43f-c2ec8c7cafb8",
   "metadata": {},
   "outputs": [
    {
     "name": "stdout",
     "output_type": "stream",
     "text": [
      "Toyota\n"
     ]
    }
   ],
   "source": [
    "class Car:\n",
    "    def __init__(self, make, model):\n",
    "        self.make = make  # public attribute\n",
    "        self.model = model  # public attribute\n",
    "\n",
    "car = Car(\"Toyota\", \"Corolla\")\n",
    "print(car.make)  # Accessible outside the class"
   ]
  },
  {
   "cell_type": "markdown",
   "id": "94098f56-83e6-4f52-bd06-9215315dfe9e",
   "metadata": {},
   "source": [
    "**2. Protected**\n",
    "\n",
    "* Description: Protected members are intended to be accessible only within the class and its subclasses. However, in Python, this is only a convention, and protected members can still be accessed outside the class if needed (though it's discouraged).\n",
    "* Denoted by: A single leading underscore (_).\n",
    "\n",
    "Example:"
   ]
  },
  {
   "cell_type": "code",
   "execution_count": 7,
   "id": "51244a1d-e7e2-476d-97ed-306b757f36bd",
   "metadata": {},
   "outputs": [
    {
     "name": "stdout",
     "output_type": "stream",
     "text": [
      "Tesla\n"
     ]
    }
   ],
   "source": [
    "class Car:\n",
    "    def __init__(self, make, model):\n",
    "        self._make = make  # protected attribute\n",
    "\n",
    "class ElectricCar(Car):\n",
    "    def get_make(self):\n",
    "        return self._make  # accessible in subclass\n",
    "\n",
    "car = ElectricCar(\"Tesla\", \"Model S\")\n",
    "print(car.get_make())  # Accessible in subclass"
   ]
  },
  {
   "cell_type": "markdown",
   "id": "8081b7e6-b2ce-4133-a964-f9c19cdde89b",
   "metadata": {},
   "source": [
    "**3. Private**\n",
    "\n",
    "* Description: Private members are intended to be accessible only within the class. Python uses name mangling to make it harder (but not impossible) to access private members from outside the class.\n",
    "\n",
    "* Denoted by: A double leading underscore (__).\n",
    "\n",
    "Example:"
   ]
  },
  {
   "cell_type": "code",
   "execution_count": 8,
   "id": "f72adbe4-7fab-4289-8d4d-a60c0a831abb",
   "metadata": {},
   "outputs": [
    {
     "name": "stdout",
     "output_type": "stream",
     "text": [
      "Toyota\n"
     ]
    }
   ],
   "source": [
    "class Car:\n",
    "    def __init__(self, make, model):\n",
    "        self.__make = make  # private attribute\n",
    "\n",
    "    def get_make(self):\n",
    "        return self.__make  # accessible inside the class\n",
    "\n",
    "car = Car(\"Toyota\", \"Corolla\")\n",
    "print(car.get_make())  # Accessible through a class method\n",
    "# print(car.__make)  # This will raise an AttributeError"
   ]
  },
  {
   "cell_type": "markdown",
   "id": "5db2d961-2fad-4981-81f6-db6dad058e33",
   "metadata": {},
   "source": [
    "If you attempt to access a private attribute directly, it raises an error. However, Python uses name mangling to store private attributes under a different name, and it can technically be accessed like this: print(car._Car__make), though this is generally discouraged.\n",
    "\n",
    "**Summary:**\n",
    "\n",
    "* Public: No underscore (self.make) – accessible everywhere.\n",
    "* Protected: Single underscore (_self.make) – conventionally meant for internal use or subclass use.\n",
    "* Private: Double underscore (__self.make) – inaccessible outside the class due to name mangling."
   ]
  },
  {
   "cell_type": "markdown",
   "id": "5f67cc99-c062-4c31-b937-729299e95d09",
   "metadata": {},
   "source": [
    "**Q.6. Describe the five types of inheritance in Python. Provide a simple example of multiple inheritance.**\n",
    "\n",
    "**Answer:**\n",
    "\n",
    "In Python, inheritance allows one class to inherit attributes and methods from another class. There are five types of inheritance:\n",
    "\n",
    "**1. Single Inheritance**\n",
    "\n",
    "* A single class inherits from one parent class.\n",
    "* Example:"
   ]
  },
  {
   "cell_type": "code",
   "execution_count": 9,
   "id": "caf84b43-4208-4783-805c-6350c1c348c3",
   "metadata": {},
   "outputs": [
    {
     "name": "stdout",
     "output_type": "stream",
     "text": [
      "Animal speaks\n",
      "Dog barks\n"
     ]
    }
   ],
   "source": [
    "class Animal:\n",
    "    def speak(self):\n",
    "        print(\"Animal speaks\")\n",
    "\n",
    "class Dog(Animal):\n",
    "    def bark(self):\n",
    "        print(\"Dog barks\")\n",
    "\n",
    "dog = Dog()\n",
    "dog.speak()  # Inherited method from Animal class\n",
    "dog.bark()"
   ]
  },
  {
   "cell_type": "markdown",
   "id": "fd1d0445-d3a5-40fb-960b-15d75cc2a812",
   "metadata": {},
   "source": [
    "**2. Multiple Inheritance**\n",
    "\n",
    "* A class inherits from more than one parent class. The child class gains properties and methods from all parent classes.\n",
    "* Example provided below.\n",
    "* \n",
    "**3. Multilevel Inheritance**\n",
    "A class inherits from another class, which in turn inherits from a third class.\n",
    "\n",
    "* Example:"
   ]
  },
  {
   "cell_type": "code",
   "execution_count": 10,
   "id": "573a533c-d628-4a1f-97ef-8f7c94839a46",
   "metadata": {},
   "outputs": [
    {
     "name": "stdout",
     "output_type": "stream",
     "text": [
      "Animal speaks\n",
      "Dog barks\n",
      "Puppy whimpers\n"
     ]
    }
   ],
   "source": [
    "class Animal:\n",
    "    def speak(self):\n",
    "        print(\"Animal speaks\")\n",
    "\n",
    "class Dog(Animal):\n",
    "    def bark(self):\n",
    "        print(\"Dog barks\")\n",
    "    \n",
    "class Puppy(Dog):\n",
    "    def whimper(self):\n",
    "        print(\"Puppy whimpers\")\n",
    "\n",
    "puppy = Puppy()\n",
    "puppy.speak()   # Inherited from Animal\n",
    "puppy.bark()    # Inherited from Dog\n",
    "puppy.whimper() # Method from Puppy"
   ]
  },
  {
   "cell_type": "markdown",
   "id": "c245af59-1bf9-49e3-9263-4f3f9cdb556d",
   "metadata": {},
   "source": [
    "**4. Hierarchical Inheritance**\n",
    "\n",
    "Multiple child classes inherit from the same parent class.\n",
    "\n",
    "* Example:"
   ]
  },
  {
   "cell_type": "code",
   "execution_count": 11,
   "id": "84d4f81d-2b88-4d07-a6dc-e1cd7fc30904",
   "metadata": {},
   "outputs": [
    {
     "name": "stdout",
     "output_type": "stream",
     "text": [
      "Animal speaks\n",
      "Animal speaks\n"
     ]
    }
   ],
   "source": [
    "class Animal:\n",
    "    def speak(self):\n",
    "        print(\"Animal speaks\")\n",
    "\n",
    "class Dog(Animal):\n",
    "    def bark(self):\n",
    "        print(\"Dog barks\")\n",
    "\n",
    "class Cat(Animal):\n",
    "    def meow(self):\n",
    "        print(\"Cat meows\")\n",
    "\n",
    "dog = Dog()\n",
    "dog.speak()  # Inherited from Animal\n",
    "\n",
    "cat = Cat()\n",
    "cat.speak()  # Inherited from Animal"
   ]
  },
  {
   "cell_type": "markdown",
   "id": "33f75669-1f84-41c3-9201-fb4c89c3b967",
   "metadata": {},
   "source": [
    "**5. Hybrid Inheritance**\n",
    "\n",
    "* A combination of two or more types of inheritance. Typically, it involves a mix of hierarchical and multiple inheritance.\n",
    "* Example:"
   ]
  },
  {
   "cell_type": "code",
   "execution_count": 12,
   "id": "7c325171-06b0-4c9e-a94b-2bc22d37c5d7",
   "metadata": {},
   "outputs": [
    {
     "name": "stdout",
     "output_type": "stream",
     "text": [
      "Animal speaks\n",
      "Dog barks\n",
      "Cat meows\n"
     ]
    }
   ],
   "source": [
    "class Animal:\n",
    "    def speak(self):\n",
    "        print(\"Animal speaks\")\n",
    "\n",
    "class Dog(Animal):\n",
    "    def bark(self):\n",
    "        print(\"Dog barks\")\n",
    "\n",
    "class Cat(Animal):\n",
    "    def meow(self):\n",
    "        print(\"Cat meows\")\n",
    "\n",
    "class Pet(Dog, Cat):  # Hybrid inheritance combining multiple inheritance\n",
    "    def play(self):\n",
    "        print(\"Pet plays\")\n",
    "\n",
    "pet = Pet()\n",
    "pet.speak()  # Inherited from Animal\n",
    "pet.bark()   # Inherited from Dog\n",
    "pet.meow()   # Inherited from Cat"
   ]
  },
  {
   "cell_type": "markdown",
   "id": "a8da5046-c841-48ce-92a0-8a8d587a934d",
   "metadata": {},
   "source": [
    "**Q.7. What is the Method Resolution Order (MRO) in Python? How can you retrieve it programmatically?**\n",
    "\n",
    "**Answer:**\n",
    "\n",
    "The Method Resolution Order (MRO) in Python is the sequence in which Python looks for a method in a hierarchy of classes. This is particularly important in the context of multiple inheritance, where a class is derived from more than one base class. The MRO determines the order in which base classes are searched when executing a method.\n",
    "\n",
    "Python uses the C3 linearization algorithm to determine the MRO. This ensures a consistent and predictable order, even in complex inheritance hierarchies.\n",
    "\n",
    "**Retrieving MRO Programmatically**\n",
    "\n",
    "You can retrieve the MRO of a class using either the __mro__ attribute or the mro() method. Here’s how you can do it:\n",
    "\n",
    "Using __mro__ Attribute"
   ]
  },
  {
   "cell_type": "code",
   "execution_count": 13,
   "id": "e3c0ae78-34b1-4f81-82f0-ce0dea0868e1",
   "metadata": {},
   "outputs": [
    {
     "name": "stdout",
     "output_type": "stream",
     "text": [
      "(<class '__main__.D'>, <class '__main__.B'>, <class '__main__.C'>, <class '__main__.A'>, <class 'object'>)\n"
     ]
    }
   ],
   "source": [
    "class A:\n",
    "    pass\n",
    "\n",
    "class B(A):\n",
    "    pass\n",
    "\n",
    "class C(A):\n",
    "    pass\n",
    "\n",
    "class D(B, C):\n",
    "    pass\n",
    "\n",
    "print(D.__mro__)"
   ]
  },
  {
   "cell_type": "markdown",
   "id": "e0cd9f3c-5b10-4163-b3da-44ebfaaa035e",
   "metadata": {},
   "source": [
    "Using mro() Method"
   ]
  },
  {
   "cell_type": "code",
   "execution_count": 14,
   "id": "5fff3de5-e0dd-49a6-98ea-6a2c447f69df",
   "metadata": {},
   "outputs": [
    {
     "name": "stdout",
     "output_type": "stream",
     "text": [
      "[<class '__main__.D'>, <class '__main__.B'>, <class '__main__.C'>, <class '__main__.A'>, <class 'object'>]\n"
     ]
    }
   ],
   "source": [
    "class A:\n",
    "    pass\n",
    "\n",
    "class B(A):\n",
    "    pass\n",
    "\n",
    "class C(A):\n",
    "    pass\n",
    "\n",
    "class D(B, C):\n",
    "    pass\n",
    "\n",
    "print(D.mro())"
   ]
  },
  {
   "cell_type": "markdown",
   "id": "4571e784-f01a-4a5e-9bde-8bc0901e9c80",
   "metadata": {},
   "source": [
    "**Q.8. Create an abstract base class 'Shape with an abstract method \"area()\". Then create two subclasses \"Circle and Rectangle that implement the area() method.**\n",
    "\n",
    "**Answer:**\n",
    "\n",
    "In Python, you can create an abstract base class using the abc module, which allows you to define abstract methods that must be implemented by subclasses. Here's an example where we define an abstract base class Shape with an abstract method area(), and then create two subclasses Circle and Rectangle that implement the area() method:"
   ]
  },
  {
   "cell_type": "code",
   "execution_count": 15,
   "id": "453ba4aa-41e1-440f-9757-18a22b7350c5",
   "metadata": {},
   "outputs": [
    {
     "name": "stdout",
     "output_type": "stream",
     "text": [
      "Area of the circle: 78.53981633974483\n",
      "Area of the rectangle: 24\n"
     ]
    }
   ],
   "source": [
    "from abc import ABC, abstractmethod\n",
    "import math\n",
    "\n",
    "# Abstract Base Class\n",
    "class Shape(ABC):\n",
    "    @abstractmethod\n",
    "    def area(self):\n",
    "        pass  # Abstract method that must be implemented by subclasses\n",
    "\n",
    "# Subclass Circle\n",
    "class Circle(Shape):\n",
    "    def __init__(self, radius):\n",
    "        self.radius = radius\n",
    "\n",
    "    def area(self):\n",
    "        return math.pi * self.radius ** 2  # Area of a circle: πr²\n",
    "\n",
    "# Subclass Rectangle\n",
    "class Rectangle(Shape):\n",
    "    def __init__(self, width, height):\n",
    "        self.width = width\n",
    "        self.height = height\n",
    "\n",
    "    def area(self):\n",
    "        return self.width * self.height  # Area of a rectangle: width * height\n",
    "\n",
    "# Example usage\n",
    "circle = Circle(5)\n",
    "print(f\"Area of the circle: {circle.area()}\")  # Output: Area of the circle: 78.53981633974483\n",
    "\n",
    "rectangle = Rectangle(4, 6)\n",
    "print(f\"Area of the rectangle: {rectangle.area()}\")  # Output: Area of the rectangle: 24"
   ]
  },
  {
   "cell_type": "markdown",
   "id": "94497266-7a10-4117-a87c-6b014c100cfd",
   "metadata": {},
   "source": [
    "**Explanation:**\n",
    "\n",
    "1. Shape (Abstract Base Class):\n",
    "\n",
    "* Shape is defined as an abstract class using the ABC module.\n",
    "* The area() method is declared as an abstract method using the @abstractmethod decorator, meaning any subclass must implement this method.\n",
    "\n",
    "2. Circle (Subclass):\n",
    "\n",
    "* Circle inherits from Shape and implements the area() method to calculate the area of a circle using the formula πr².\n",
    "\n",
    "3. Rectangle (Subclass):\n",
    "\n",
    "* Rectangle also inherits from Shape and implements the area() method to calculate the area of a rectangle using the formula width × height."
   ]
  },
  {
   "cell_type": "markdown",
   "id": "88a09ec6-7d3e-441f-afaa-72f6bdac8c73",
   "metadata": {},
   "source": [
    "**Q.9. Demonstrate polymorphism by creating a function that can work with different shape objects to calculate and print their areas**\n",
    "\n",
    "**Answer:**\n",
    "\n",
    "Certainly! Below is an example demonstrating polymorphism in Python. This concept allows a function to interact with objects of different classes in a uniform way, as long as they implement a common interface (in this case, the area() method)."
   ]
  },
  {
   "cell_type": "code",
   "execution_count": 16,
   "id": "022aeec9-7e7f-468f-b5e0-2e52dd9e404c",
   "metadata": {},
   "outputs": [
    {
     "name": "stdout",
     "output_type": "stream",
     "text": [
      "The area is: 78.53981633974483\n",
      "The area is: 24\n",
      "The area is: 10.5\n"
     ]
    }
   ],
   "source": [
    "from abc import ABC, abstractmethod\n",
    "import math\n",
    "\n",
    "# Abstract Base Class\n",
    "class Shape(ABC):\n",
    "    @abstractmethod\n",
    "    def area(self):\n",
    "        pass\n",
    "\n",
    "# Subclass Circle\n",
    "class Circle(Shape):\n",
    "    def __init__(self, radius):\n",
    "        self.radius = radius\n",
    "\n",
    "    def area(self):\n",
    "        return math.pi * self.radius ** 2\n",
    "\n",
    "# Subclass Rectangle\n",
    "class Rectangle(Shape):\n",
    "    def __init__(self, width, height):\n",
    "        self.width = width\n",
    "        self.height = height\n",
    "\n",
    "    def area(self):\n",
    "        return self.width * self.height\n",
    "\n",
    "# Subclass Triangle\n",
    "class Triangle(Shape):\n",
    "    def __init__(self, base, height):\n",
    "        self.base = base\n",
    "        self.height = height\n",
    "\n",
    "    def area(self):\n",
    "        return 0.5 * self.base * self.height\n",
    "\n",
    "# Polymorphic function to calculate the area\n",
    "def print_area(shape):\n",
    "    print(f\"The area is: {shape.area()}\")\n",
    "\n",
    "# Example usage\n",
    "shapes = [\n",
    "    Circle(5),           # Circle with radius 5\n",
    "    Rectangle(4, 6),     # Rectangle with width 4 and height 6\n",
    "    Triangle(3, 7)       # Triangle with base 3 and height 7\n",
    "]\n",
    "\n",
    "for shape in shapes:\n",
    "    print_area(shape)  # Calls the appropriate area() method for each shape"
   ]
  },
  {
   "cell_type": "markdown",
   "id": "77fa652c-1cf7-4703-bac4-74d06f886adf",
   "metadata": {},
   "source": [
    "**Explanation:**\n",
    "\n",
    "1. We have defined three shape subclasses: Circle, Rectangle, and Triangle, each implementing its own area() method.\n",
    "2. The function print_area() is polymorphic, meaning it can accept any object of a class that implements the area() method, regardless of the specific type of shape.\n",
    "3. When we iterate over the list of different shapes, the appropriate area() method is called for each shape instance, demonstrating polymorphism.\n",
    "This structure ensures that the print_area() function can handle different types of shapes seamlessly, as long as they adhere to the same interface (area() method)."
   ]
  },
  {
   "cell_type": "markdown",
   "id": "3dc469e8-12f4-4e23-89ef-1f60c421989c",
   "metadata": {},
   "source": [
    "**Q.10. Implement encapsulation in a 'BankAccount class with private attributes for \"balance and \"account_number. Include methods for deposit, withdrawal, and balance inquiry.**\n",
    "\n",
    "**Answer:**\n",
    "\n",
    "Here's how you can implement encapsulation in a BankAccount class in Python. The class will use private attributes for balance and account_number, and will provide methods for deposit, withdrawal, and balance inquiry. We'll use name mangling (prefixing with double underscores) to make the attributes private."
   ]
  },
  {
   "cell_type": "code",
   "execution_count": 17,
   "id": "f82537e1-d58c-4563-8171-2c7240b9a042",
   "metadata": {},
   "outputs": [
    {
     "name": "stdout",
     "output_type": "stream",
     "text": [
      "Account Number: 1234567890\n",
      "Initial Balance: $1000.00\n",
      "Deposited $500.00. New balance is $1500.00.\n",
      "Withdrew $200.00. New balance is $1300.00.\n",
      "Insufficient funds.\n",
      "Final Balance: $1300.00\n"
     ]
    }
   ],
   "source": [
    "class BankAccount:\n",
    "    def __init__(self, account_number, initial_balance=0):\n",
    "        self.__account_number = account_number  # Private attribute\n",
    "        self.__balance = initial_balance        # Private attribute\n",
    "\n",
    "    def deposit(self, amount):\n",
    "        if amount > 0:\n",
    "            self.__balance += amount\n",
    "            print(f\"Deposited ${amount:.2f}. New balance is ${self.__balance:.2f}.\")\n",
    "        else:\n",
    "            print(\"Deposit amount must be positive.\")\n",
    "\n",
    "    def withdraw(self, amount):\n",
    "        if amount > 0:\n",
    "            if amount <= self.__balance:\n",
    "                self.__balance -= amount\n",
    "                print(f\"Withdrew ${amount:.2f}. New balance is ${self.__balance:.2f}.\")\n",
    "            else:\n",
    "                print(\"Insufficient funds.\")\n",
    "        else:\n",
    "            print(\"Withdrawal amount must be positive.\")\n",
    "\n",
    "    def get_balance(self):\n",
    "        return self.__balance\n",
    "\n",
    "    def get_account_number(self):\n",
    "        return self.__account_number\n",
    "\n",
    "# Example usage\n",
    "account = BankAccount(\"1234567890\", 1000)\n",
    "print(f\"Account Number: {account.get_account_number()}\")\n",
    "print(f\"Initial Balance: ${account.get_balance():.2f}\")\n",
    "\n",
    "account.deposit(500)\n",
    "account.withdraw(200)\n",
    "account.withdraw(1500)  # This will trigger an insufficient funds message\n",
    "\n",
    "print(f\"Final Balance: ${account.get_balance():.2f}\")"
   ]
  },
  {
   "cell_type": "markdown",
   "id": "7fd30e79-36d6-40f7-8d88-db2b64a1f430",
   "metadata": {},
   "source": [
    "**Explanation:**\n",
    "\n",
    "1. Private Attributes:\n",
    "\n",
    "* __account_number and __balance are private attributes. They are not directly accessible from outside the class due to name mangling. This is done by prefixing them with double underscores.\n",
    "\n",
    "2. Public Methods:\n",
    "\n",
    "* deposit(amount): Increases the balance by the given amount if it's positive.\n",
    "* withdraw(amount): Decreases the balance by the given amount if it's positive and if there are sufficient funds.\n",
    "* get_balance(): Returns the current balance. This allows access to the balance in a controlled manner.\n",
    "* get_account_number(): Returns the account number. This allows controlled access to the account number.\n",
    "\n",
    "3. Encapsulation:\n",
    "\n",
    "* The class encapsulates the balance and account_number attributes, providing controlled access through public methods. This ensures that the internal state of the object can only be changed in controlled ways, and its internal representation is hidden from the outside."
   ]
  },
  {
   "cell_type": "markdown",
   "id": "3bd2c0e0-738a-4e0c-9b63-cf73e0907991",
   "metadata": {},
   "source": [
    "**Q.11. Write a class that overrides the str_and__add_magic methods. What will these methods allow you to do?**\n",
    "\n",
    "**Answer:**"
   ]
  },
  {
   "cell_type": "code",
   "execution_count": 18,
   "id": "75ec1684-bd4b-41f5-9705-b887e72f42e5",
   "metadata": {},
   "outputs": [
    {
     "name": "stdout",
     "output_type": "stream",
     "text": [
      "Vector(1, 2)\n",
      "Vector(3, 4)\n",
      "Vector(4, 6)\n"
     ]
    }
   ],
   "source": [
    "class Vector:\n",
    "    def __init__(self, x, y):\n",
    "        self.x = x\n",
    "        self.y = y\n",
    "\n",
    "    # Override __str__ to define custom string representation\n",
    "    def __str__(self):\n",
    "        return f\"Vector({self.x}, {self.y})\"\n",
    "\n",
    "    # Override __add__ to define custom addition behavior\n",
    "    def __add__(self, other):\n",
    "        if isinstance(other, Vector):\n",
    "            return Vector(self.x + other.x, self.y + other.y)\n",
    "        return NotImplemented\n",
    "\n",
    "# Example usage\n",
    "v1 = Vector(1, 2)\n",
    "v2 = Vector(3, 4)\n",
    "\n",
    "# Printing the vector objects\n",
    "print(v1)  # Output: Vector(1, 2)\n",
    "print(v2)  # Output: Vector(3, 4)\n",
    "\n",
    "# Adding the vector objects\n",
    "v3 = v1 + v2\n",
    "print(v3)  # Output: Vector(4, 6)"
   ]
  },
  {
   "cell_type": "markdown",
   "id": "155d889a-6f75-4201-99a4-b7ca99b75f1b",
   "metadata": {},
   "source": [
    "**What These Methods Allow:**\n",
    "\n",
    "* __str__: Allows you to control how the object is represented as a string, which is useful for debugging and displaying information about the object.\n",
    "* __add__: Allows you to define how objects of the class should be added together using the + operator, making it possible to use operator overloading to implement custom behaviors for addition."
   ]
  },
  {
   "cell_type": "markdown",
   "id": "7d643b47-921d-4316-8bcd-6058b0cdfeeb",
   "metadata": {},
   "source": [
    "**Q.12. Create a decorator that measures and prints the execution time of a function.**\n",
    "\n",
    "**Answer:**"
   ]
  },
  {
   "cell_type": "code",
   "execution_count": 19,
   "id": "1d925c29-68e0-45c5-befc-10f1ea29c26d",
   "metadata": {},
   "outputs": [
    {
     "name": "stdout",
     "output_type": "stream",
     "text": [
      "Execution time of example_function: 0.0658 seconds\n",
      "Result: 499999500000\n"
     ]
    }
   ],
   "source": [
    "import time\n",
    "\n",
    "def timing_decorator(func):\n",
    "    def wrapper(*args, **kwargs):\n",
    "        start_time = time.time()  # Record the start time\n",
    "        result = func(*args, **kwargs)  # Call the function\n",
    "        end_time = time.time()  # Record the end time\n",
    "        execution_time = end_time - start_time  # Calculate the execution time\n",
    "        print(f\"Execution time of {func.__name__}: {execution_time:.4f} seconds\")\n",
    "        return result  # Return the result of the function call\n",
    "    return wrapper\n",
    "\n",
    "# Example usage of the decorator\n",
    "@timing_decorator\n",
    "def example_function(n):\n",
    "    total = 0\n",
    "    for i in range(n):\n",
    "        total += i\n",
    "    return total\n",
    "\n",
    "# Call the decorated function\n",
    "result = example_function(1000000)\n",
    "print(f\"Result: {result}\")"
   ]
  },
  {
   "cell_type": "markdown",
   "id": "793addf3-1a71-4217-b327-bd7c49d4e9aa",
   "metadata": {},
   "source": [
    "**Q.13. Explain the concept of the Diamond Problem in multiple inheritance. How does Python resolve it?**\n",
    "\n",
    "**Answer:**\n",
    "\n",
    "The Diamond Problem is a common issue in multiple inheritance scenarios where a class inherits from two classes that both inherit from a common base class. This situation creates a diamond-shaped inheritance structure. Here’s a simple illustration of the problem:\n",
    "\n",
    "       A\n",
    "      / \\\n",
    "     B   C\n",
    "      \\ /\n",
    "       D\n",
    "\n",
    "In this diagram:\n",
    "\n",
    "* Class D inherits from both B and C.\n",
    "* Both B and C inherit from A.\n",
    "The problem arises when a method or attribute is defined in the base class A and is overridden or modified in classes B and C. When D tries to access this method or attribute, it’s unclear which path should be followed: B or C.\n",
    "\n",
    "**Example of the Diamond Problem**\n",
    "\n",
    "Here’s a Python example demonstrating the Diamond Problem:"
   ]
  },
  {
   "cell_type": "code",
   "execution_count": 21,
   "id": "e22d7f14-312c-4fc8-ae2c-62bc8a194ffd",
   "metadata": {},
   "outputs": [
    {
     "name": "stdout",
     "output_type": "stream",
     "text": [
      "Hello from B\n"
     ]
    }
   ],
   "source": [
    "class A:\n",
    "    def greet(self):\n",
    "        print(\"Hello from A\")\n",
    "\n",
    "class B(A):\n",
    "    def greet(self):\n",
    "        print(\"Hello from B\")\n",
    "\n",
    "class C(A):\n",
    "    def greet(self):\n",
    "        print(\"Hello from C\")\n",
    "\n",
    "class D(B, C):\n",
    "    pass\n",
    "\n",
    "# Create an instance of D\n",
    "d = D()\n",
    "d.greet()"
   ]
  },
  {
   "cell_type": "markdown",
   "id": "2ff95688-8e06-4f27-9cc8-9dcdce7fefd3",
   "metadata": {},
   "source": [
    "**Q.14. Write a class method that keeps track of the number of instances created from a class.**\n",
    "\n",
    "**Answer:**"
   ]
  },
  {
   "cell_type": "code",
   "execution_count": 22,
   "id": "5e97681c-215e-40e3-8fd6-d42fde4c6cd3",
   "metadata": {},
   "outputs": [
    {
     "name": "stdout",
     "output_type": "stream",
     "text": [
      "Number of instances created: 3\n"
     ]
    }
   ],
   "source": [
    "class InstanceCounter:\n",
    "    # Class variable to keep track of the number of instances\n",
    "    _instance_count = 0\n",
    "\n",
    "    def __init__(self):\n",
    "        # Increment the instance count when a new instance is created\n",
    "        InstanceCounter._instance_count += 1\n",
    "\n",
    "    @classmethod\n",
    "    def get_instance_count(cls):\n",
    "        # Return the current count of instances\n",
    "        return cls._instance_count\n",
    "\n",
    "# Example usage\n",
    "a = InstanceCounter()\n",
    "b = InstanceCounter()\n",
    "c = InstanceCounter()\n",
    "\n",
    "print(f\"Number of instances created: {InstanceCounter.get_instance_count()}\")"
   ]
  },
  {
   "cell_type": "markdown",
   "id": "acd8f5d2-dc8f-49b6-a9c4-2807c4ba7367",
   "metadata": {},
   "source": [
    "**Q.15. Implement a static method in a class that checks if a given year is a leap year.**\n",
    "\n",
    "**Answer:**"
   ]
  },
  {
   "cell_type": "code",
   "execution_count": 23,
   "id": "adaa62c2-02bc-4f9e-b1eb-ff47f09302b9",
   "metadata": {},
   "outputs": [
    {
     "name": "stdout",
     "output_type": "stream",
     "text": [
      "2024 is a leap year.\n"
     ]
    }
   ],
   "source": [
    "class DateUtils:\n",
    "    @staticmethod\n",
    "    def is_leap_year(year):\n",
    "        \"\"\"Check if a given year is a leap year.\"\"\"\n",
    "        if (year % 4 == 0):\n",
    "            if (year % 100 == 0):\n",
    "                if (year % 400 == 0):\n",
    "                    return True\n",
    "                else:\n",
    "                    return False\n",
    "            else:\n",
    "                return True\n",
    "        else:\n",
    "            return False\n",
    "\n",
    "# Example usage\n",
    "year = 2024\n",
    "if DateUtils.is_leap_year(year):\n",
    "    print(f\"{year} is a leap year.\")\n",
    "else:\n",
    "    print(f\"{year} is not a leap year.\")"
   ]
  }
 ],
 "metadata": {
  "kernelspec": {
   "display_name": "Python 3 (ipykernel)",
   "language": "python",
   "name": "python3"
  },
  "language_info": {
   "codemirror_mode": {
    "name": "ipython",
    "version": 3
   },
   "file_extension": ".py",
   "mimetype": "text/x-python",
   "name": "python",
   "nbconvert_exporter": "python",
   "pygments_lexer": "ipython3",
   "version": "3.12.5"
  }
 },
 "nbformat": 4,
 "nbformat_minor": 5
}
